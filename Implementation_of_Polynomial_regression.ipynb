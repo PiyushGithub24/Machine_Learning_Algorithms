{
  "nbformat": 4,
  "nbformat_minor": 0,
  "metadata": {
    "colab": {
      "provenance": [],
      "authorship_tag": "ABX9TyNqJHPTtvOspTik1o2ZUEev",
      "include_colab_link": true
    },
    "kernelspec": {
      "name": "python3",
      "display_name": "Python 3"
    },
    "language_info": {
      "name": "python"
    }
  },
  "cells": [
    {
      "cell_type": "markdown",
      "metadata": {
        "id": "view-in-github",
        "colab_type": "text"
      },
      "source": [
        "<a href=\"https://colab.research.google.com/github/PiyushGithub24/Machine_Learning_Algorithms/blob/main/Implementation_of_Polynomial_regression.ipynb\" target=\"_parent\"><img src=\"https://colab.research.google.com/assets/colab-badge.svg\" alt=\"Open In Colab\"/></a>"
      ]
    },
    {
      "cell_type": "markdown",
      "source": [
        "#importing some libraries"
      ],
      "metadata": {
        "id": "YjGYjvuAiFDc"
      }
    },
    {
      "cell_type": "code",
      "execution_count": 147,
      "metadata": {
        "id": "lf1_IGoYh8Jx"
      },
      "outputs": [],
      "source": [
        "import numpy as np\n",
        "import pandas as pd\n",
        "import matplotlib.pyplot as plt\n",
        "%matplotlib inline"
      ]
    },
    {
      "cell_type": "code",
      "source": [
        "x=6*np.random.rand(100,1)-3\n",
        "y=0.5 * x**2 + 1.5*x + 2 + np.random.randn(100,1)  #quadratic eqation which is non linear function"
      ],
      "metadata": {
        "id": "OZJBA56eiUKT"
      },
      "execution_count": 148,
      "outputs": []
    },
    {
      "cell_type": "code",
      "source": [
        "#plotting the scatter plot b/w x and y\n",
        "plt.scatter(x,y,color='g')\n",
        "plt.xlabel('x -->',color='g')\n",
        "plt.ylabel('y -->',color='g')\n",
        "#plt.title('Scatter plot',color='b')"
      ],
      "metadata": {
        "colab": {
          "base_uri": "https://localhost:8080/",
          "height": 467
        },
        "id": "-XwV6itqi18W",
        "outputId": "1dba8e6e-4757-4c15-f514-5b73a5ddaa08"
      },
      "execution_count": 149,
      "outputs": [
        {
          "output_type": "execute_result",
          "data": {
            "text/plain": [
              "Text(0, 0.5, 'y -->')"
            ]
          },
          "metadata": {},
          "execution_count": 149
        },
        {
          "output_type": "display_data",
          "data": {
            "text/plain": [
              "<Figure size 640x480 with 1 Axes>"
            ],
            "image/png": "[encoded data removed]"
          },
          "metadata": {}
        }
      ]
    },
    {
      "cell_type": "code",
      "source": [
        "from sklearn.model_selection import train_test_split\n",
        "x_train,x_test,y_train,y_test=train_test_split(x,y,test_size=0.2,random_state=42)"
      ],
      "metadata": {
        "id": "aV-RSqMfi3Lh"
      },
      "execution_count": 150,
      "outputs": []
    },
    {
      "cell_type": "code",
      "source": [
        "#print('x_train:-\\n',x_train,'\\ny_test:-\\n',y_test,'\\ny_train:-\\n',y_train,'\\ny_test:-\\n',y_test)"
      ],
      "metadata": {
        "id": "IvdZg9Avk6TY"
      },
      "execution_count": 151,
      "outputs": []
    },
    {
      "cell_type": "code",
      "source": [
        "#lets first implement the simple linear regression and see the accuracy\n",
        "from sklearn.linear_model import LinearRegression\n",
        "regression1=LinearRegression()"
      ],
      "metadata": {
        "id": "wdVmHoYIlBTa"
      },
      "execution_count": 152,
      "outputs": []
    },
    {
      "cell_type": "code",
      "source": [
        "regression1.fit(x_train,y_train)"
      ],
      "metadata": {
        "colab": {
          "base_uri": "https://localhost:8080/",
          "height": 74
        },
        "id": "qsOilubImQaN",
        "outputId": "48a7ed6b-076e-46b3-a340-d85196fc8fcc"
      },
      "execution_count": 153,
      "outputs": [
        {
          "output_type": "execute_result",
          "data": {
            "text/plain": [
              "LinearRegression()"
            ],
            "text/html": [
              "<style>#sk-container-id-6 {color: black;background-color: white;}#sk-container-id-6 pre{padding: 0;}#sk-container-id-6 div.sk-toggleable {background-color: white;}#sk-container-id-6 label.sk-toggleable__label {cursor: pointer;display: block;width: 100%;margin-bottom: 0;padding: 0.3em;box-sizing: border-box;text-align: center;}#sk-container-id-6 label.sk-toggleable__label-arrow:before {content: \"▸\";float: left;margin-right: 0.25em;color: #696969;}#sk-container-id-6 label.sk-toggleable__label-arrow:hover:before {color: black;}#sk-container-id-6 div.sk-estimator:hover label.sk-toggleable__label-arrow:before {color: black;}#sk-container-id-6 div.sk-toggleable__content {max-height: 0;max-width: 0;overflow: hidden;text-align: left;background-color: #f0f8ff;}#sk-container-id-6 div.sk-toggleable__content pre {margin: 0.2em;color: black;border-radius: 0.25em;background-color: #f0f8ff;}#sk-container-id-6 input.sk-toggleable__control:checked~div.sk-toggleable__content {max-height: 200px;max-width: 100%;overflow: auto;}#sk-container-id-6 input.sk-toggleable__control:checked~label.sk-toggleable__label-arrow:before {content: \"▾\";}#sk-container-id-6 div.sk-estimator input.sk-toggleable__control:checked~label.sk-toggleable__label {background-color: #d4ebff;}#sk-container-id-6 div.sk-label input.sk-toggleable__control:checked~label.sk-toggleable__label {background-color: #d4ebff;}#sk-container-id-6 input.sk-hidden--visually {border: 0;clip: rect(1px 1px 1px 1px);clip: rect(1px, 1px, 1px, 1px);height: 1px;margin: -1px;overflow: hidden;padding: 0;position: absolute;width: 1px;}#sk-container-id-6 div.sk-estimator {font-family: monospace;background-color: #f0f8ff;border: 1px dotted black;border-radius: 0.25em;box-sizing: border-box;margin-bottom: 0.5em;}#sk-container-id-6 div.sk-estimator:hover {background-color: #d4ebff;}#sk-container-id-6 div.sk-parallel-item::after {content: \"\";width: 100%;border-bottom: 1px solid gray;flex-grow: 1;}#sk-container-id-6 div.sk-label:hover label.sk-toggleable__label {background-color: #d4ebff;}#sk-container-id-6 div.sk-serial::before {content: \"\";position: absolute;border-left: 1px solid gray;box-sizing: border-box;top: 0;bottom: 0;left: 50%;z-index: 0;}#sk-container-id-6 div.sk-serial {display: flex;flex-direction: column;align-items: center;background-color: white;padding-right: 0.2em;padding-left: 0.2em;position: relative;}#sk-container-id-6 div.sk-item {position: relative;z-index: 1;}#sk-container-id-6 div.sk-parallel {display: flex;align-items: stretch;justify-content: center;background-color: white;position: relative;}#sk-container-id-6 div.sk-item::before, #sk-container-id-6 div.sk-parallel-item::before {content: \"\";position: absolute;border-left: 1px solid gray;box-sizing: border-box;top: 0;bottom: 0;left: 50%;z-index: -1;}#sk-container-id-6 div.sk-parallel-item {display: flex;flex-direction: column;z-index: 1;position: relative;background-color: white;}#sk-container-id-6 div.sk-parallel-item:first-child::after {align-self: flex-end;width: 50%;}#sk-container-id-6 div.sk-parallel-item:last-child::after {align-self: flex-start;width: 50%;}#sk-container-id-6 div.sk-parallel-item:only-child::after {width: 0;}#sk-container-id-6 div.sk-dashed-wrapped {border: 1px dashed gray;margin: 0 0.4em 0.5em 0.4em;box-sizing: border-box;padding-bottom: 0.4em;background-color: white;}#sk-container-id-6 div.sk-label label {font-family: monospace;font-weight: bold;display: inline-block;line-height: 1.2em;}#sk-container-id-6 div.sk-label-container {text-align: center;}#sk-container-id-6 div.sk-container {/* jupyter's `normalize.less` sets `[hidden] { display: none; }` but bootstrap.min.css set `[hidden] { display: none !important; }` so we also need the `!important` here to be able to override the default hidden behavior on the sphinx rendered scikit-learn.org. See: https://github.com/scikit-learn/scikit-learn/issues/21755 */display: inline-block !important;position: relative;}#sk-container-id-6 div.sk-text-repr-fallback {display: none;}</style><div id=\"sk-container-id-6\" class=\"sk-top-container\"><div class=\"sk-text-repr-fallback\"><pre>LinearRegression()</pre><b>In a Jupyter environment, please rerun this cell to show the HTML representation or trust the notebook. <br />On GitHub, the HTML representation is unable to render, please try loading this page with nbviewer.org.</b></div><div class=\"sk-container\" hidden><div class=\"sk-item\"><div class=\"sk-estimator sk-toggleable\"><input class=\"sk-toggleable__control sk-hidden--visually\" id=\"sk-estimator-id-6\" type=\"checkbox\" checked><label for=\"sk-estimator-id-6\" class=\"sk-toggleable__label sk-toggleable__label-arrow\">LinearRegression</label><div class=\"sk-toggleable__content\"><pre>LinearRegression()</pre></div></div></div></div></div>"
            ]
          },
          "metadata": {},
          "execution_count": 153
        }
      ]
    },
    {
      "cell_type": "code",
      "source": [
        "from sklearn.metrics import r2_score\n",
        "score1=r2_score(y_test,regression1.predict(x_test))\n",
        "print('score=',score1)"
      ],
      "metadata": {
        "colab": {
          "base_uri": "https://localhost:8080/"
        },
        "id": "zMZ-IjYhmd7H",
        "outputId": "cdd31d5d-4542-40a4-b604-46afb913de06"
      },
      "execution_count": 154,
      "outputs": [
        {
          "output_type": "stream",
          "name": "stdout",
          "text": [
            "score= 0.6772440569430631\n"
          ]
        }
      ]
    },
    {
      "cell_type": "code",
      "source": [
        "#lets visualize the data\n",
        "plt.scatter(x_train,y_train,color='b')\n",
        "plt.plot(x_train,regression1.predict(x_train),color='r')\n",
        "plt.xlabel('x dataset -->')\n",
        "plt.ylabel('y -->')"
      ],
      "metadata": {
        "colab": {
          "base_uri": "https://localhost:8080/",
          "height": 467
        },
        "id": "YLn8Verrm4Z0",
        "outputId": "d623bdbc-2748-419a-a0d8-3dbd2c05028a"
      },
      "execution_count": 155,
      "outputs": [
        {
          "output_type": "execute_result",
          "data": {
            "text/plain": [
              "Text(0, 0.5, 'y -->')"
            ]
          },
          "metadata": {},
          "execution_count": 155
        },
        {
          "output_type": "display_data",
          "data": {
            "text/plain": [
              "<Figure size 640x480 with 1 Axes>"
            ],
            "image/png": "[encoded data removed]"
          },
          "metadata": {}
        }
      ]
    },
    {
      "cell_type": "code",
      "source": [
        "#We can see from above plot and score that simple linear regression is not good for this data"
      ],
      "metadata": {
        "id": "MJHlJwzfrOmr"
      },
      "execution_count": 156,
      "outputs": []
    },
    {
      "cell_type": "markdown",
      "source": [
        "#So lets apply polynomial regression"
      ],
      "metadata": {
        "id": "L88pqbyhtlSY"
      }
    },
    {
      "cell_type": "code",
      "source": [
        "from sklearn.preprocessing import PolynomialFeatures\n",
        "poly=PolynomialFeatures(degree=2,include_bias=True)  #when degree =2 including include_bias=True means x is converted as 1,x**1,x**2 (y=b0 * 1 + b1 * x**1 + b2 * x**2)\n",
        "x_train_poly=poly.fit_transform(x_train)\n",
        "x_test_poly=poly.transform(x_test)"
      ],
      "metadata": {
        "id": "4yAhMtCvtqt1"
      },
      "execution_count": 157,
      "outputs": []
    },
    {
      "cell_type": "code",
      "source": [
        "print(\"x_train_poly:-\\n\",x_train_poly)\n",
        "print('X_test_poly:-\\n',x_test_poly)"
      ],
      "metadata": {
        "colab": {
          "base_uri": "https://localhost:8080/"
        },
        "id": "JyRlxmwawFZl",
        "outputId": "e0afb136-3cf8-4bda-f3c1-97c94e570caf"
      },
      "execution_count": 158,
      "outputs": [
        {
          "output_type": "stream",
          "name": "stdout",
          "text": [
            "x_train_poly:-\n",
            " [[ 1.00000000e+00  6.43054154e-02  4.13518645e-03]\n",
            " [ 1.00000000e+00 -7.58626390e-01  5.75513999e-01]\n",
            " [ 1.00000000e+00 -2.63221646e+00  6.92856350e+00]\n",
            " [ 1.00000000e+00 -1.88966088e-01  3.57081825e-02]\n",
            " [ 1.00000000e+00  3.47162958e-01  1.20522120e-01]\n",
            " [ 1.00000000e+00  1.14014030e-01  1.29991990e-02]\n",
            " [ 1.00000000e+00 -4.64652323e-01  2.15901781e-01]\n",
            " [ 1.00000000e+00  5.84439020e-01  3.41568968e-01]\n",
            " [ 1.00000000e+00 -1.02862012e+00  1.05805936e+00]\n",
            " [ 1.00000000e+00  1.31098981e-01  1.71869428e-02]\n",
            " [ 1.00000000e+00 -1.37326933e+00  1.88586865e+00]\n",
            " [ 1.00000000e+00  9.26063672e-01  8.57593925e-01]\n",
            " [ 1.00000000e+00 -6.30882647e-01  3.98012914e-01]\n",
            " [ 1.00000000e+00 -1.87179190e+00  3.50360492e+00]\n",
            " [ 1.00000000e+00  1.96852152e+00  3.87507699e+00]\n",
            " [ 1.00000000e+00 -7.21453456e-01  5.20495090e-01]\n",
            " [ 1.00000000e+00 -2.15101575e+00  4.62686876e+00]\n",
            " [ 1.00000000e+00  6.82830246e-02  4.66257144e-03]\n",
            " [ 1.00000000e+00 -2.91719874e-02  8.51004849e-04]\n",
            " [ 1.00000000e+00 -1.13106532e+00  1.27930877e+00]\n",
            " [ 1.00000000e+00 -1.71682127e+00  2.94747527e+00]\n",
            " [ 1.00000000e+00 -6.95058082e-02  4.83105737e-03]\n",
            " [ 1.00000000e+00  2.79571434e+00  7.81601865e+00]\n",
            " [ 1.00000000e+00  4.50412776e-01  2.02871669e-01]\n",
            " [ 1.00000000e+00  9.15739144e-01  8.38578180e-01]\n",
            " [ 1.00000000e+00  1.31802108e+00  1.73717958e+00]\n",
            " [ 1.00000000e+00  1.90012635e+00  3.61048015e+00]\n",
            " [ 1.00000000e+00  2.93608174e+00  8.62057596e+00]\n",
            " [ 1.00000000e+00 -2.57831245e+00  6.64769511e+00]\n",
            " [ 1.00000000e+00 -2.10724244e+00  4.44047071e+00]\n",
            " [ 1.00000000e+00 -7.33912475e-02  5.38627521e-03]\n",
            " [ 1.00000000e+00  2.47267257e+00  6.11410962e+00]\n",
            " [ 1.00000000e+00  2.98670519e+00  8.92040787e+00]\n",
            " [ 1.00000000e+00  7.85197660e-01  6.16535365e-01]\n",
            " [ 1.00000000e+00 -2.59349007e-01  6.72619075e-02]\n",
            " [ 1.00000000e+00 -2.19670409e+00  4.82550884e+00]\n",
            " [ 1.00000000e+00  1.33445644e-02  1.78077399e-04]\n",
            " [ 1.00000000e+00  2.31419167e+00  5.35548310e+00]\n",
            " [ 1.00000000e+00 -1.75214084e+00  3.06999752e+00]\n",
            " [ 1.00000000e+00 -2.37646201e+00  5.64757169e+00]\n",
            " [ 1.00000000e+00 -1.17780010e+00  1.38721308e+00]\n",
            " [ 1.00000000e+00  2.15306722e+00  4.63569844e+00]\n",
            " [ 1.00000000e+00  2.55244782e+00  6.51498989e+00]\n",
            " [ 1.00000000e+00 -2.89207277e+00  8.36408493e+00]\n",
            " [ 1.00000000e+00 -1.16964186e+00  1.36806208e+00]\n",
            " [ 1.00000000e+00  2.46114343e+00  6.05722697e+00]\n",
            " [ 1.00000000e+00 -1.43746192e+00  2.06629678e+00]\n",
            " [ 1.00000000e+00  1.79303976e-01  3.21499159e-02]\n",
            " [ 1.00000000e+00 -2.12841256e+00  4.53014001e+00]\n",
            " [ 1.00000000e+00 -2.99724578e+00  8.98348229e+00]\n",
            " [ 1.00000000e+00  2.91074289e+00  8.47242416e+00]\n",
            " [ 1.00000000e+00  2.50390854e+00  6.26955797e+00]\n",
            " [ 1.00000000e+00  1.09891975e+00  1.20762461e+00]\n",
            " [ 1.00000000e+00  2.10593419e+00  4.43495879e+00]\n",
            " [ 1.00000000e+00  1.77378180e+00  3.14630187e+00]\n",
            " [ 1.00000000e+00 -1.24858771e+00  1.55897127e+00]\n",
            " [ 1.00000000e+00  1.01206224e+00  1.02426998e+00]\n",
            " [ 1.00000000e+00 -5.30231010e-01  2.81144924e-01]\n",
            " [ 1.00000000e+00  6.04627105e-01  3.65573936e-01]\n",
            " [ 1.00000000e+00  2.81556672e+00  7.92741594e+00]\n",
            " [ 1.00000000e+00 -6.71673110e-01  4.51144766e-01]\n",
            " [ 1.00000000e+00  1.03378713e+00  1.06871584e+00]\n",
            " [ 1.00000000e+00 -2.18303827e+00  4.76565609e+00]\n",
            " [ 1.00000000e+00 -2.74499626e+00  7.53500445e+00]\n",
            " [ 1.00000000e+00 -2.19597102e-01  4.82228873e-02]\n",
            " [ 1.00000000e+00  2.51234281e+00  6.31186637e+00]\n",
            " [ 1.00000000e+00 -2.56725337e+00  6.59078987e+00]\n",
            " [ 1.00000000e+00 -9.09276251e-01  8.26783301e-01]\n",
            " [ 1.00000000e+00  2.33335096e+00  5.44452670e+00]\n",
            " [ 1.00000000e+00  1.52409553e+00  2.32286717e+00]\n",
            " [ 1.00000000e+00  1.84574870e+00  3.40678827e+00]\n",
            " [ 1.00000000e+00 -6.00938525e-01  3.61127111e-01]\n",
            " [ 1.00000000e+00 -2.48494971e+00  6.17497504e+00]\n",
            " [ 1.00000000e+00  1.56615735e+00  2.45284885e+00]\n",
            " [ 1.00000000e+00 -2.35829734e+00  5.56156636e+00]\n",
            " [ 1.00000000e+00  2.09438582e+00  4.38645197e+00]\n",
            " [ 1.00000000e+00  2.44975841e+00  6.00131629e+00]\n",
            " [ 1.00000000e+00 -1.18501428e-01  1.40425884e-02]\n",
            " [ 1.00000000e+00 -2.33042069e+00  5.43086060e+00]\n",
            " [ 1.00000000e+00  2.92807224e+00  8.57360703e+00]]\n",
            "X_test_poly:-\n",
            " [[ 1.         -0.96792605  0.93688084]\n",
            " [ 1.          0.74018116  0.54786815]\n",
            " [ 1.          2.95546617  8.73478029]\n",
            " [ 1.         -2.6631237   7.09222786]\n",
            " [ 1.         -0.53067001  0.28161066]\n",
            " [ 1.          1.47104417  2.16397096]\n",
            " [ 1.         -0.963523    0.92837657]\n",
            " [ 1.         -1.34814596  1.81749754]\n",
            " [ 1.          0.21999868  0.04839942]\n",
            " [ 1.          2.8113315   7.90358481]\n",
            " [ 1.          1.77324322  3.14439152]\n",
            " [ 1.          0.76052442  0.5783974 ]\n",
            " [ 1.          1.68705682  2.84616073]\n",
            " [ 1.          1.81486681  3.29374155]\n",
            " [ 1.         -1.91736431  3.67628591]\n",
            " [ 1.         -1.13253464  1.28263471]\n",
            " [ 1.          0.5436189   0.29552151]\n",
            " [ 1.          0.70517152  0.49726687]\n",
            " [ 1.         -0.67697936  0.45830105]\n",
            " [ 1.         -1.08706076  1.18170109]]\n"
          ]
        }
      ]
    },
    {
      "cell_type": "code",
      "source": [
        "from sklearn.linear_model import LinearRegression\n",
        "regression1=LinearRegression()\n",
        "regression1.fit(x_train_poly,y_train)\n",
        "from sklearn.metrics import r2_score\n",
        "score1=r2_score(y_test,regression1.predict(x_test_poly))\n",
        "print('score=',score1)"
      ],
      "metadata": {
        "colab": {
          "base_uri": "https://localhost:8080/"
        },
        "id": "O12elxfFvrMa",
        "outputId": "a06903ba-aa42-4288-fdb2-b2ce2dc87dcd"
      },
      "execution_count": 159,
      "outputs": [
        {
          "output_type": "stream",
          "name": "stdout",
          "text": [
            "score= 0.8798793165726232\n"
          ]
        }
      ]
    },
    {
      "cell_type": "code",
      "source": [
        "print(regression1.coef_)"
      ],
      "metadata": {
        "id": "nL-W0qzMv4Mh",
        "colab": {
          "base_uri": "https://localhost:8080/"
        },
        "outputId": "ae139b1c-1b2a-40a4-f9e7-447c01fac07c"
      },
      "execution_count": 160,
      "outputs": [
        {
          "output_type": "stream",
          "name": "stdout",
          "text": [
            "[[0.         1.58350026 0.53858868]]\n"
          ]
        }
      ]
    },
    {
      "cell_type": "code",
      "source": [
        "print(regression1.intercept_)"
      ],
      "metadata": {
        "colab": {
          "base_uri": "https://localhost:8080/"
        },
        "id": "cdxJKtMdY8p1",
        "outputId": "b4442cac-7a54-4c57-9c92-6822221d5e9d"
      },
      "execution_count": 161,
      "outputs": [
        {
          "output_type": "stream",
          "name": "stdout",
          "text": [
            "[2.02821551]\n"
          ]
        }
      ]
    },
    {
      "cell_type": "code",
      "source": [
        "#scatter plot\n",
        "plt.scatter(x_train,regression1.predict(x_train_poly))\n",
        "plt.scatter(x_train,y_train,color='orange')"
      ],
      "metadata": {
        "colab": {
          "base_uri": "https://localhost:8080/",
          "height": 448
        },
        "id": "2TahHUeeZQIB",
        "outputId": "2c5cefd1-1ebc-452f-b83c-8f147d47a0b3"
      },
      "execution_count": 162,
      "outputs": [
        {
          "output_type": "execute_result",
          "data": {
            "text/plain": [
              "<matplotlib.collections.PathCollection at 0x7a745e669660>"
            ]
          },
          "metadata": {},
          "execution_count": 162
        },
        {
          "output_type": "display_data",
          "data": {
            "text/plain": [
              "<Figure size 640x480 with 1 Axes>"
            ],
            "image/png": "[encoded data removed]"
          },
          "metadata": {}
        }
      ]
    },
    {
      "cell_type": "markdown",
      "source": [
        "#when taking degree=3"
      ],
      "metadata": {
        "id": "TTe7PtgDcDUO"
      }
    },
    {
      "cell_type": "code",
      "source": [
        "from sklearn.preprocessing import PolynomialFeatures\n",
        "poly=PolynomialFeatures(degree=3,include_bias=True)  #when degree =2 including include_bias=True means x is converted as 1,x**1,x**2 (y=b0 * 1 + b1 * x**1 + b2 * x**2)\n",
        "x_train_poly1=poly.fit_transform(x_train)\n",
        "x_test_poly1=poly.transform(x_test)"
      ],
      "metadata": {
        "id": "uFokStiTauFn"
      },
      "execution_count": 163,
      "outputs": []
    },
    {
      "cell_type": "code",
      "source": [
        "print('x_train_poly1:-\\n',x_train_poly1)\n",
        "print('x_test_poly1:-\\n',x_test_poly1)"
      ],
      "metadata": {
        "colab": {
          "base_uri": "https://localhost:8080/"
        },
        "id": "2dx52-IhcfsQ",
        "outputId": "13c161c7-3a90-427e-a839-75603044f038"
      },
      "execution_count": 164,
      "outputs": [
        {
          "output_type": "stream",
          "name": "stdout",
          "text": [
            "x_train_poly1:-\n",
            " [[ 1.00000000e+00  6.43054154e-02  4.13518645e-03  2.65914882e-04]\n",
            " [ 1.00000000e+00 -7.58626390e-01  5.75513999e-01 -4.36600107e-01]\n",
            " [ 1.00000000e+00 -2.63221646e+00  6.92856350e+00 -1.82374789e+01]\n",
            " [ 1.00000000e+00 -1.88966088e-01  3.57081825e-02 -6.74763557e-03]\n",
            " [ 1.00000000e+00  3.47162958e-01  1.20522120e-01  4.18408155e-02]\n",
            " [ 1.00000000e+00  1.14014030e-01  1.29991990e-02  1.48209107e-03]\n",
            " [ 1.00000000e+00 -4.64652323e-01  2.15901781e-01 -1.00319264e-01]\n",
            " [ 1.00000000e+00  5.84439020e-01  3.41568968e-01  1.99626233e-01]\n",
            " [ 1.00000000e+00 -1.02862012e+00  1.05805936e+00 -1.08834115e+00]\n",
            " [ 1.00000000e+00  1.31098981e-01  1.71869428e-02  2.25319069e-03]\n",
            " [ 1.00000000e+00 -1.37326933e+00  1.88586865e+00 -2.58980558e+00]\n",
            " [ 1.00000000e+00  9.26063672e-01  8.57593925e-01  7.94186580e-01]\n",
            " [ 1.00000000e+00 -6.30882647e-01  3.98012914e-01 -2.51099440e-01]\n",
            " [ 1.00000000e+00 -1.87179190e+00  3.50360492e+00 -6.55801931e+00]\n",
            " [ 1.00000000e+00  1.96852152e+00  3.87507699e+00  7.62817245e+00]\n",
            " [ 1.00000000e+00 -7.21453456e-01  5.20495090e-01 -3.75512982e-01]\n",
            " [ 1.00000000e+00 -2.15101575e+00  4.62686876e+00 -9.95246758e+00]\n",
            " [ 1.00000000e+00  6.82830246e-02  4.66257144e-03  3.18374480e-04]\n",
            " [ 1.00000000e+00 -2.91719874e-02  8.51004849e-04 -2.48255027e-05]\n",
            " [ 1.00000000e+00 -1.13106532e+00  1.27930877e+00 -1.44698179e+00]\n",
            " [ 1.00000000e+00 -1.71682127e+00  2.94747527e+00 -5.06028823e+00]\n",
            " [ 1.00000000e+00 -6.95058082e-02  4.83105737e-03 -3.35786547e-04]\n",
            " [ 1.00000000e+00  2.79571434e+00  7.81601865e+00  2.18513554e+01]\n",
            " [ 1.00000000e+00  4.50412776e-01  2.02871669e-01  9.13759914e-02]\n",
            " [ 1.00000000e+00  9.15739144e-01  8.38578180e-01  7.67918864e-01]\n",
            " [ 1.00000000e+00  1.31802108e+00  1.73717958e+00  2.28963931e+00]\n",
            " [ 1.00000000e+00  1.90012635e+00  3.61048015e+00  6.86036847e+00]\n",
            " [ 1.00000000e+00  2.93608174e+00  8.62057596e+00  2.53107156e+01]\n",
            " [ 1.00000000e+00 -2.57831245e+00  6.64769511e+00 -1.71398351e+01]\n",
            " [ 1.00000000e+00 -2.10724244e+00  4.44047071e+00 -9.35714835e+00]\n",
            " [ 1.00000000e+00 -7.33912475e-02  5.38627521e-03 -3.95305457e-04]\n",
            " [ 1.00000000e+00  2.47267257e+00  6.11410962e+00  1.51181911e+01]\n",
            " [ 1.00000000e+00  2.98670519e+00  8.92040787e+00  2.66426285e+01]\n",
            " [ 1.00000000e+00  7.85197660e-01  6.16535365e-01  4.84102126e-01]\n",
            " [ 1.00000000e+00 -2.59349007e-01  6.72619075e-02 -1.74443089e-02]\n",
            " [ 1.00000000e+00 -2.19670409e+00  4.82550884e+00 -1.06002150e+01]\n",
            " [ 1.00000000e+00  1.33445644e-02  1.78077399e-04  2.37636532e-06]\n",
            " [ 1.00000000e+00  2.31419167e+00  5.35548310e+00  1.23936144e+01]\n",
            " [ 1.00000000e+00 -1.75214084e+00  3.06999752e+00 -5.37906804e+00]\n",
            " [ 1.00000000e+00 -2.37646201e+00  5.64757169e+00 -1.34212396e+01]\n",
            " [ 1.00000000e+00 -1.17780010e+00  1.38721308e+00 -1.63385971e+00]\n",
            " [ 1.00000000e+00  2.15306722e+00  4.63569844e+00  9.98097033e+00]\n",
            " [ 1.00000000e+00  2.55244782e+00  6.51498989e+00  1.66291718e+01]\n",
            " [ 1.00000000e+00 -2.89207277e+00  8.36408493e+00 -2.41895423e+01]\n",
            " [ 1.00000000e+00 -1.16964186e+00  1.36806208e+00 -1.60014267e+00]\n",
            " [ 1.00000000e+00  2.46114343e+00  6.05722697e+00  1.49077044e+01]\n",
            " [ 1.00000000e+00 -1.43746192e+00  2.06629678e+00 -2.97022294e+00]\n",
            " [ 1.00000000e+00  1.79303976e-01  3.21499159e-02  5.76460776e-03]\n",
            " [ 1.00000000e+00 -2.12841256e+00  4.53014001e+00 -9.64200689e+00]\n",
            " [ 1.00000000e+00 -2.99724578e+00  8.98348229e+00 -2.69257044e+01]\n",
            " [ 1.00000000e+00  2.91074289e+00  8.47242416e+00  2.46610484e+01]\n",
            " [ 1.00000000e+00  2.50390854e+00  6.26955797e+00  1.56983997e+01]\n",
            " [ 1.00000000e+00  1.09891975e+00  1.20762461e+00  1.32708254e+00]\n",
            " [ 1.00000000e+00  2.10593419e+00  4.43495879e+00  9.33973134e+00]\n",
            " [ 1.00000000e+00  1.77378180e+00  3.14630187e+00  5.58085300e+00]\n",
            " [ 1.00000000e+00 -1.24858771e+00  1.55897127e+00 -1.94651237e+00]\n",
            " [ 1.00000000e+00  1.01206224e+00  1.02426998e+00  1.03662496e+00]\n",
            " [ 1.00000000e+00 -5.30231010e-01  2.81144924e-01 -1.49071757e-01]\n",
            " [ 1.00000000e+00  6.04627105e-01  3.65573936e-01  2.21035911e-01]\n",
            " [ 1.00000000e+00  2.81556672e+00  7.92741594e+00  2.23201685e+01]\n",
            " [ 1.00000000e+00 -6.71673110e-01  4.51144766e-01 -3.03021808e-01]\n",
            " [ 1.00000000e+00  1.03378713e+00  1.06871584e+00  1.10482468e+00]\n",
            " [ 1.00000000e+00 -2.18303827e+00  4.76565609e+00 -1.04036096e+01]\n",
            " [ 1.00000000e+00 -2.74499626e+00  7.53500445e+00 -2.06835590e+01]\n",
            " [ 1.00000000e+00 -2.19597102e-01  4.82228873e-02 -1.05896063e-02]\n",
            " [ 1.00000000e+00  2.51234281e+00  6.31186637e+00  1.58575721e+01]\n",
            " [ 1.00000000e+00 -2.56725337e+00  6.59078987e+00 -1.69202275e+01]\n",
            " [ 1.00000000e+00 -9.09276251e-01  8.26783301e-01 -7.51774421e-01]\n",
            " [ 1.00000000e+00  2.33335096e+00  5.44452670e+00  1.27039916e+01]\n",
            " [ 1.00000000e+00  1.52409553e+00  2.32286717e+00  3.54027147e+00]\n",
            " [ 1.00000000e+00  1.84574870e+00  3.40678827e+00  6.28807503e+00]\n",
            " [ 1.00000000e+00 -6.00938525e-01  3.61127111e-01 -2.17015194e-01]\n",
            " [ 1.00000000e+00 -2.48494971e+00  6.17497504e+00 -1.53445024e+01]\n",
            " [ 1.00000000e+00  1.56615735e+00  2.45284885e+00  3.84154725e+00]\n",
            " [ 1.00000000e+00 -2.35829734e+00  5.56156636e+00 -1.31158272e+01]\n",
            " [ 1.00000000e+00  2.09438582e+00  4.38645197e+00  9.18692283e+00]\n",
            " [ 1.00000000e+00  2.44975841e+00  6.00131629e+00  1.47017751e+01]\n",
            " [ 1.00000000e+00 -1.18501428e-01  1.40425884e-02 -1.66406677e-03]\n",
            " [ 1.00000000e+00 -2.33042069e+00  5.43086060e+00 -1.26561899e+01]\n",
            " [ 1.00000000e+00  2.92807224e+00  8.57360703e+00  2.51041407e+01]]\n",
            "x_test_poly1:-\n",
            " [[ 1.00000000e+00 -9.67926049e-01  9.36880837e-01 -9.06831367e-01]\n",
            " [ 1.00000000e+00  7.40181162e-01  5.47868153e-01  4.05521687e-01]\n",
            " [ 1.00000000e+00  2.95546617e+00  8.73478029e+00  2.58153477e+01]\n",
            " [ 1.00000000e+00 -2.66312370e+00  7.09222786e+00 -1.88874801e+01]\n",
            " [ 1.00000000e+00 -5.30670013e-01  2.81610663e-01 -1.49442334e-01]\n",
            " [ 1.00000000e+00  1.47104417e+00  2.16397096e+00  3.18329687e+00]\n",
            " [ 1.00000000e+00 -9.63522998e-01  9.28376568e-01 -8.94512174e-01]\n",
            " [ 1.00000000e+00 -1.34814596e+00  1.81749754e+00 -2.45025198e+00]\n",
            " [ 1.00000000e+00  2.19998677e-01  4.83994177e-02  1.06478079e-02]\n",
            " [ 1.00000000e+00  2.81133150e+00  7.90358481e+00  2.22195969e+01]\n",
            " [ 1.00000000e+00  1.77324322e+00  3.14439152e+00  5.57577093e+00]\n",
            " [ 1.00000000e+00  7.60524421e-01  5.78397395e-01  4.39885344e-01]\n",
            " [ 1.00000000e+00  1.68705682e+00  2.84616073e+00  4.80163487e+00]\n",
            " [ 1.00000000e+00  1.81486681e+00  3.29374155e+00  5.97770224e+00]\n",
            " [ 1.00000000e+00 -1.91736431e+00  3.67628591e+00 -7.04877941e+00]\n",
            " [ 1.00000000e+00 -1.13253464e+00  1.28263471e+00 -1.45262824e+00]\n",
            " [ 1.00000000e+00  5.43618898e-01  2.95521506e-01  1.60651075e-01]\n",
            " [ 1.00000000e+00  7.05171515e-01  4.97266866e-01  3.50658429e-01]\n",
            " [ 1.00000000e+00 -6.76979359e-01  4.58301052e-01 -3.10260353e-01]\n",
            " [ 1.00000000e+00 -1.08706076e+00  1.18170109e+00 -1.28458088e+00]]\n"
          ]
        }
      ]
    },
    {
      "cell_type": "code",
      "source": [
        "from sklearn.linear_model import LinearRegression\n",
        "regression1=LinearRegression()\n",
        "regression1.fit(x_train_poly1,y_train)\n",
        "from sklearn.metrics import r2_score\n",
        "score1=r2_score(y_test,regression1.predict(x_test_poly1))\n",
        "print('score=',score1)"
      ],
      "metadata": {
        "colab": {
          "base_uri": "https://localhost:8080/"
        },
        "id": "zZ7xpdm7cqEy",
        "outputId": "a18ae5cc-266e-4b7d-e683-1cb1aecf6b24"
      },
      "execution_count": 165,
      "outputs": [
        {
          "output_type": "stream",
          "name": "stdout",
          "text": [
            "score= 0.8804780408234908\n"
          ]
        }
      ]
    },
    {
      "cell_type": "code",
      "source": [
        "#As we can see that accuracy little bit increases"
      ],
      "metadata": {
        "id": "aKzQdYuPc-Hc"
      },
      "execution_count": 166,
      "outputs": []
    },
    {
      "cell_type": "code",
      "source": [
        "#lets do prediction for new data\n",
        "x_new=np.linspace(-3,3,200).reshape(200,1)\n",
        "x_new_poly=poly.transform(x_new)\n",
        "x_new_poly"
      ],
      "metadata": {
        "colab": {
          "base_uri": "https://localhost:8080/"
        },
        "id": "WbCi-ZzDdR4N",
        "outputId": "6fef8cd5-4f4d-4563-c238-4de47d7f182d"
      },
      "execution_count": 167,
      "outputs": [
        {
          "output_type": "execute_result",
          "data": {
            "text/plain": [
              "array([[ 1.00000000e+00, -3.00000000e+00,  9.00000000e+00,\n",
              "        -2.70000000e+01],\n",
              "       [ 1.00000000e+00, -2.96984925e+00,  8.82000455e+00,\n",
              "        -2.61940839e+01],\n",
              "       [ 1.00000000e+00, -2.93969849e+00,  8.64182723e+00,\n",
              "        -2.54043665e+01],\n",
              "       [ 1.00000000e+00, -2.90954774e+00,  8.46546804e+00,\n",
              "        -2.46306834e+01],\n",
              "       [ 1.00000000e+00, -2.87939698e+00,  8.29092700e+00,\n",
              "        -2.38728702e+01],\n",
              "       [ 1.00000000e+00, -2.84924623e+00,  8.11820409e+00,\n",
              "        -2.31307624e+01],\n",
              "       [ 1.00000000e+00, -2.81909548e+00,  7.94729931e+00,\n",
              "        -2.24041955e+01],\n",
              "       [ 1.00000000e+00, -2.78894472e+00,  7.77821267e+00,\n",
              "        -2.16930052e+01],\n",
              "       [ 1.00000000e+00, -2.75879397e+00,  7.61094417e+00,\n",
              "        -2.09970269e+01],\n",
              "       [ 1.00000000e+00, -2.72864322e+00,  7.44549380e+00,\n",
              "        -2.03160961e+01],\n",
              "       [ 1.00000000e+00, -2.69849246e+00,  7.28186157e+00,\n",
              "        -1.96500486e+01],\n",
              "       [ 1.00000000e+00, -2.66834171e+00,  7.12004747e+00,\n",
              "        -1.89987196e+01],\n",
              "       [ 1.00000000e+00, -2.63819095e+00,  6.96005151e+00,\n",
              "        -1.83619449e+01],\n",
              "       [ 1.00000000e+00, -2.60804020e+00,  6.80187369e+00,\n",
              "        -1.77395600e+01],\n",
              "       [ 1.00000000e+00, -2.57788945e+00,  6.64551400e+00,\n",
              "        -1.71314004e+01],\n",
              "       [ 1.00000000e+00, -2.54773869e+00,  6.49097245e+00,\n",
              "        -1.65373017e+01],\n",
              "       [ 1.00000000e+00, -2.51758794e+00,  6.33824903e+00,\n",
              "        -1.59570993e+01],\n",
              "       [ 1.00000000e+00, -2.48743719e+00,  6.18734375e+00,\n",
              "        -1.53906289e+01],\n",
              "       [ 1.00000000e+00, -2.45728643e+00,  6.03825661e+00,\n",
              "        -1.48377260e+01],\n",
              "       [ 1.00000000e+00, -2.42713568e+00,  5.89098760e+00,\n",
              "        -1.42982262e+01],\n",
              "       [ 1.00000000e+00, -2.39698492e+00,  5.74553673e+00,\n",
              "        -1.37719649e+01],\n",
              "       [ 1.00000000e+00, -2.36683417e+00,  5.60190399e+00,\n",
              "        -1.32587778e+01],\n",
              "       [ 1.00000000e+00, -2.33668342e+00,  5.46008939e+00,\n",
              "        -1.27585003e+01],\n",
              "       [ 1.00000000e+00, -2.30653266e+00,  5.32009293e+00,\n",
              "        -1.22709681e+01],\n",
              "       [ 1.00000000e+00, -2.27638191e+00,  5.18191460e+00,\n",
              "        -1.17960166e+01],\n",
              "       [ 1.00000000e+00, -2.24623116e+00,  5.04555441e+00,\n",
              "        -1.13334815e+01],\n",
              "       [ 1.00000000e+00, -2.21608040e+00,  4.91101235e+00,\n",
              "        -1.08831982e+01],\n",
              "       [ 1.00000000e+00, -2.18592965e+00,  4.77828843e+00,\n",
              "        -1.04450023e+01],\n",
              "       [ 1.00000000e+00, -2.15577889e+00,  4.64738264e+00,\n",
              "        -1.00187294e+01],\n",
              "       [ 1.00000000e+00, -2.12562814e+00,  4.51829499e+00,\n",
              "        -9.60421498e+00],\n",
              "       [ 1.00000000e+00, -2.09547739e+00,  4.39102548e+00,\n",
              "        -9.20129460e+00],\n",
              "       [ 1.00000000e+00, -2.06532663e+00,  4.26557410e+00,\n",
              "        -8.80980380e+00],\n",
              "       [ 1.00000000e+00, -2.03517588e+00,  4.14194086e+00,\n",
              "        -8.42957813e+00],\n",
              "       [ 1.00000000e+00, -2.00502513e+00,  4.02012575e+00,\n",
              "        -8.06045315e+00],\n",
              "       [ 1.00000000e+00, -1.97487437e+00,  3.90012878e+00,\n",
              "        -7.70226438e+00],\n",
              "       [ 1.00000000e+00, -1.94472362e+00,  3.78194995e+00,\n",
              "        -7.35484739e+00],\n",
              "       [ 1.00000000e+00, -1.91457286e+00,  3.66558925e+00,\n",
              "        -7.01803772e+00],\n",
              "       [ 1.00000000e+00, -1.88442211e+00,  3.55104669e+00,\n",
              "        -6.69167090e+00],\n",
              "       [ 1.00000000e+00, -1.85427136e+00,  3.43832226e+00,\n",
              "        -6.37558249e+00],\n",
              "       [ 1.00000000e+00, -1.82412060e+00,  3.32741597e+00,\n",
              "        -6.06960803e+00],\n",
              "       [ 1.00000000e+00, -1.79396985e+00,  3.21832782e+00,\n",
              "        -5.77358307e+00],\n",
              "       [ 1.00000000e+00, -1.76381910e+00,  3.11105780e+00,\n",
              "        -5.48734316e+00],\n",
              "       [ 1.00000000e+00, -1.73366834e+00,  3.00560592e+00,\n",
              "        -5.21072383e+00],\n",
              "       [ 1.00000000e+00, -1.70351759e+00,  2.90197217e+00,\n",
              "        -4.94356064e+00],\n",
              "       [ 1.00000000e+00, -1.67336683e+00,  2.80015656e+00,\n",
              "        -4.68568912e+00],\n",
              "       [ 1.00000000e+00, -1.64321608e+00,  2.70015909e+00,\n",
              "        -4.43694483e+00],\n",
              "       [ 1.00000000e+00, -1.61306533e+00,  2.60197975e+00,\n",
              "        -4.19716331e+00],\n",
              "       [ 1.00000000e+00, -1.58291457e+00,  2.50561854e+00,\n",
              "        -3.96618011e+00],\n",
              "       [ 1.00000000e+00, -1.55276382e+00,  2.41107548e+00,\n",
              "        -3.74383077e+00],\n",
              "       [ 1.00000000e+00, -1.52261307e+00,  2.31835055e+00,\n",
              "        -3.52995083e+00],\n",
              "       [ 1.00000000e+00, -1.49246231e+00,  2.22744375e+00,\n",
              "        -3.32437585e+00],\n",
              "       [ 1.00000000e+00, -1.46231156e+00,  2.13835509e+00,\n",
              "        -3.12694137e+00],\n",
              "       [ 1.00000000e+00, -1.43216080e+00,  2.05108457e+00,\n",
              "        -2.93748292e+00],\n",
              "       [ 1.00000000e+00, -1.40201005e+00,  1.96563218e+00,\n",
              "        -2.75583607e+00],\n",
              "       [ 1.00000000e+00, -1.37185930e+00,  1.88199793e+00,\n",
              "        -2.58183636e+00],\n",
              "       [ 1.00000000e+00, -1.34170854e+00,  1.80018181e+00,\n",
              "        -2.41531932e+00],\n",
              "       [ 1.00000000e+00, -1.31155779e+00,  1.72018383e+00,\n",
              "        -2.25612051e+00],\n",
              "       [ 1.00000000e+00, -1.28140704e+00,  1.64200399e+00,\n",
              "        -2.10407546e+00],\n",
              "       [ 1.00000000e+00, -1.25125628e+00,  1.56564228e+00,\n",
              "        -1.95901974e+00],\n",
              "       [ 1.00000000e+00, -1.22110553e+00,  1.49109871e+00,\n",
              "        -1.82078888e+00],\n",
              "       [ 1.00000000e+00, -1.19095477e+00,  1.41837327e+00,\n",
              "        -1.68921842e+00],\n",
              "       [ 1.00000000e+00, -1.16080402e+00,  1.34746597e+00,\n",
              "        -1.56414392e+00],\n",
              "       [ 1.00000000e+00, -1.13065327e+00,  1.27837681e+00,\n",
              "        -1.44540091e+00],\n",
              "       [ 1.00000000e+00, -1.10050251e+00,  1.21110578e+00,\n",
              "        -1.33282495e+00],\n",
              "       [ 1.00000000e+00, -1.07035176e+00,  1.14565289e+00,\n",
              "        -1.22625158e+00],\n",
              "       [ 1.00000000e+00, -1.04020101e+00,  1.08201813e+00,\n",
              "        -1.12551635e+00],\n",
              "       [ 1.00000000e+00, -1.01005025e+00,  1.02020151e+00,\n",
              "        -1.03045479e+00],\n",
              "       [ 1.00000000e+00, -9.79899497e-01,  9.60203025e-01,\n",
              "        -9.40902462e-01],\n",
              "       [ 1.00000000e+00, -9.49748744e-01,  9.02022676e-01,\n",
              "        -8.56694904e-01],\n",
              "       [ 1.00000000e+00, -9.19597990e-01,  8.45660463e-01,\n",
              "        -7.77667662e-01],\n",
              "       [ 1.00000000e+00, -8.89447236e-01,  7.91116386e-01,\n",
              "        -7.03656283e-01],\n",
              "       [ 1.00000000e+00, -8.59296482e-01,  7.38390445e-01,\n",
              "        -6.34496312e-01],\n",
              "       [ 1.00000000e+00, -8.29145729e-01,  6.87482639e-01,\n",
              "        -5.70023294e-01],\n",
              "       [ 1.00000000e+00, -7.98994975e-01,  6.38392970e-01,\n",
              "        -5.10072775e-01],\n",
              "       [ 1.00000000e+00, -7.68844221e-01,  5.91121436e-01,\n",
              "        -4.54480300e-01],\n",
              "       [ 1.00000000e+00, -7.38693467e-01,  5.45668039e-01,\n",
              "        -4.03081416e-01],\n",
              "       [ 1.00000000e+00, -7.08542714e-01,  5.02032777e-01,\n",
              "        -3.55711666e-01],\n",
              "       [ 1.00000000e+00, -6.78391960e-01,  4.60215651e-01,\n",
              "        -3.12206597e-01],\n",
              "       [ 1.00000000e+00, -6.48241206e-01,  4.20216661e-01,\n",
              "        -2.72401755e-01],\n",
              "       [ 1.00000000e+00, -6.18090452e-01,  3.82035807e-01,\n",
              "        -2.36132685e-01],\n",
              "       [ 1.00000000e+00, -5.87939698e-01,  3.45673089e-01,\n",
              "        -2.03234932e-01],\n",
              "       [ 1.00000000e+00, -5.57788945e-01,  3.11128507e-01,\n",
              "        -1.73544042e-01],\n",
              "       [ 1.00000000e+00, -5.27638191e-01,  2.78402061e-01,\n",
              "        -1.46895560e-01],\n",
              "       [ 1.00000000e+00, -4.97487437e-01,  2.47493750e-01,\n",
              "        -1.23125031e-01],\n",
              "       [ 1.00000000e+00, -4.67336683e-01,  2.18403576e-01,\n",
              "        -1.02068003e-01],\n",
              "       [ 1.00000000e+00, -4.37185930e-01,  1.91131537e-01,\n",
              "        -8.35600187e-02],\n",
              "       [ 1.00000000e+00, -4.07035176e-01,  1.65677634e-01,\n",
              "        -6.74366251e-02],\n",
              "       [ 1.00000000e+00, -3.76884422e-01,  1.42041868e-01,\n",
              "        -5.35333672e-02],\n",
              "       [ 1.00000000e+00, -3.46733668e-01,  1.20224237e-01,\n",
              "        -4.16857906e-02],\n",
              "       [ 1.00000000e+00, -3.16582915e-01,  1.00224742e-01,\n",
              "        -3.17294409e-02],\n",
              "       [ 1.00000000e+00, -2.86432161e-01,  8.20433827e-02,\n",
              "        -2.34998634e-02],\n",
              "       [ 1.00000000e+00, -2.56281407e-01,  6.56801596e-02,\n",
              "        -1.68326037e-02],\n",
              "       [ 1.00000000e+00, -2.26130653e-01,  5.11350723e-02,\n",
              "        -1.15632073e-02],\n",
              "       [ 1.00000000e+00, -1.95979899e-01,  3.84081210e-02,\n",
              "        -7.52721969e-03],\n",
              "       [ 1.00000000e+00, -1.65829146e-01,  2.74993056e-02,\n",
              "        -4.56018635e-03],\n",
              "       [ 1.00000000e+00, -1.35678392e-01,  1.84086260e-02,\n",
              "        -2.49765278e-03],\n",
              "       [ 1.00000000e+00, -1.05527638e-01,  1.11360824e-02,\n",
              "        -1.17516448e-03],\n",
              "       [ 1.00000000e+00, -7.53768844e-02,  5.68167471e-03,\n",
              "        -4.28266938e-04],\n",
              "       [ 1.00000000e+00, -4.52261307e-02,  2.04540289e-03,\n",
              "        -9.25056585e-05],\n",
              "       [ 1.00000000e+00, -1.50753769e-02,  2.27266988e-04,\n",
              "        -3.42613550e-06],\n",
              "       [ 1.00000000e+00,  1.50753769e-02,  2.27266988e-04,\n",
              "         3.42613550e-06],\n",
              "       [ 1.00000000e+00,  4.52261307e-02,  2.04540289e-03,\n",
              "         9.25056585e-05],\n",
              "       [ 1.00000000e+00,  7.53768844e-02,  5.68167471e-03,\n",
              "         4.28266938e-04],\n",
              "       [ 1.00000000e+00,  1.05527638e-01,  1.11360824e-02,\n",
              "         1.17516448e-03],\n",
              "       [ 1.00000000e+00,  1.35678392e-01,  1.84086260e-02,\n",
              "         2.49765278e-03],\n",
              "       [ 1.00000000e+00,  1.65829146e-01,  2.74993056e-02,\n",
              "         4.56018635e-03],\n",
              "       [ 1.00000000e+00,  1.95979899e-01,  3.84081210e-02,\n",
              "         7.52721969e-03],\n",
              "       [ 1.00000000e+00,  2.26130653e-01,  5.11350723e-02,\n",
              "         1.15632073e-02],\n",
              "       [ 1.00000000e+00,  2.56281407e-01,  6.56801596e-02,\n",
              "         1.68326037e-02],\n",
              "       [ 1.00000000e+00,  2.86432161e-01,  8.20433827e-02,\n",
              "         2.34998634e-02],\n",
              "       [ 1.00000000e+00,  3.16582915e-01,  1.00224742e-01,\n",
              "         3.17294409e-02],\n",
              "       [ 1.00000000e+00,  3.46733668e-01,  1.20224237e-01,\n",
              "         4.16857906e-02],\n",
              "       [ 1.00000000e+00,  3.76884422e-01,  1.42041868e-01,\n",
              "         5.35333672e-02],\n",
              "       [ 1.00000000e+00,  4.07035176e-01,  1.65677634e-01,\n",
              "         6.74366251e-02],\n",
              "       [ 1.00000000e+00,  4.37185930e-01,  1.91131537e-01,\n",
              "         8.35600187e-02],\n",
              "       [ 1.00000000e+00,  4.67336683e-01,  2.18403576e-01,\n",
              "         1.02068003e-01],\n",
              "       [ 1.00000000e+00,  4.97487437e-01,  2.47493750e-01,\n",
              "         1.23125031e-01],\n",
              "       [ 1.00000000e+00,  5.27638191e-01,  2.78402061e-01,\n",
              "         1.46895560e-01],\n",
              "       [ 1.00000000e+00,  5.57788945e-01,  3.11128507e-01,\n",
              "         1.73544042e-01],\n",
              "       [ 1.00000000e+00,  5.87939698e-01,  3.45673089e-01,\n",
              "         2.03234932e-01],\n",
              "       [ 1.00000000e+00,  6.18090452e-01,  3.82035807e-01,\n",
              "         2.36132685e-01],\n",
              "       [ 1.00000000e+00,  6.48241206e-01,  4.20216661e-01,\n",
              "         2.72401755e-01],\n",
              "       [ 1.00000000e+00,  6.78391960e-01,  4.60215651e-01,\n",
              "         3.12206597e-01],\n",
              "       [ 1.00000000e+00,  7.08542714e-01,  5.02032777e-01,\n",
              "         3.55711666e-01],\n",
              "       [ 1.00000000e+00,  7.38693467e-01,  5.45668039e-01,\n",
              "         4.03081416e-01],\n",
              "       [ 1.00000000e+00,  7.68844221e-01,  5.91121436e-01,\n",
              "         4.54480300e-01],\n",
              "       [ 1.00000000e+00,  7.98994975e-01,  6.38392970e-01,\n",
              "         5.10072775e-01],\n",
              "       [ 1.00000000e+00,  8.29145729e-01,  6.87482639e-01,\n",
              "         5.70023294e-01],\n",
              "       [ 1.00000000e+00,  8.59296482e-01,  7.38390445e-01,\n",
              "         6.34496312e-01],\n",
              "       [ 1.00000000e+00,  8.89447236e-01,  7.91116386e-01,\n",
              "         7.03656283e-01],\n",
              "       [ 1.00000000e+00,  9.19597990e-01,  8.45660463e-01,\n",
              "         7.77667662e-01],\n",
              "       [ 1.00000000e+00,  9.49748744e-01,  9.02022676e-01,\n",
              "         8.56694904e-01],\n",
              "       [ 1.00000000e+00,  9.79899497e-01,  9.60203025e-01,\n",
              "         9.40902462e-01],\n",
              "       [ 1.00000000e+00,  1.01005025e+00,  1.02020151e+00,\n",
              "         1.03045479e+00],\n",
              "       [ 1.00000000e+00,  1.04020101e+00,  1.08201813e+00,\n",
              "         1.12551635e+00],\n",
              "       [ 1.00000000e+00,  1.07035176e+00,  1.14565289e+00,\n",
              "         1.22625158e+00],\n",
              "       [ 1.00000000e+00,  1.10050251e+00,  1.21110578e+00,\n",
              "         1.33282495e+00],\n",
              "       [ 1.00000000e+00,  1.13065327e+00,  1.27837681e+00,\n",
              "         1.44540091e+00],\n",
              "       [ 1.00000000e+00,  1.16080402e+00,  1.34746597e+00,\n",
              "         1.56414392e+00],\n",
              "       [ 1.00000000e+00,  1.19095477e+00,  1.41837327e+00,\n",
              "         1.68921842e+00],\n",
              "       [ 1.00000000e+00,  1.22110553e+00,  1.49109871e+00,\n",
              "         1.82078888e+00],\n",
              "       [ 1.00000000e+00,  1.25125628e+00,  1.56564228e+00,\n",
              "         1.95901974e+00],\n",
              "       [ 1.00000000e+00,  1.28140704e+00,  1.64200399e+00,\n",
              "         2.10407546e+00],\n",
              "       [ 1.00000000e+00,  1.31155779e+00,  1.72018383e+00,\n",
              "         2.25612051e+00],\n",
              "       [ 1.00000000e+00,  1.34170854e+00,  1.80018181e+00,\n",
              "         2.41531932e+00],\n",
              "       [ 1.00000000e+00,  1.37185930e+00,  1.88199793e+00,\n",
              "         2.58183636e+00],\n",
              "       [ 1.00000000e+00,  1.40201005e+00,  1.96563218e+00,\n",
              "         2.75583607e+00],\n",
              "       [ 1.00000000e+00,  1.43216080e+00,  2.05108457e+00,\n",
              "         2.93748292e+00],\n",
              "       [ 1.00000000e+00,  1.46231156e+00,  2.13835509e+00,\n",
              "         3.12694137e+00],\n",
              "       [ 1.00000000e+00,  1.49246231e+00,  2.22744375e+00,\n",
              "         3.32437585e+00],\n",
              "       [ 1.00000000e+00,  1.52261307e+00,  2.31835055e+00,\n",
              "         3.52995083e+00],\n",
              "       [ 1.00000000e+00,  1.55276382e+00,  2.41107548e+00,\n",
              "         3.74383077e+00],\n",
              "       [ 1.00000000e+00,  1.58291457e+00,  2.50561854e+00,\n",
              "         3.96618011e+00],\n",
              "       [ 1.00000000e+00,  1.61306533e+00,  2.60197975e+00,\n",
              "         4.19716331e+00],\n",
              "       [ 1.00000000e+00,  1.64321608e+00,  2.70015909e+00,\n",
              "         4.43694483e+00],\n",
              "       [ 1.00000000e+00,  1.67336683e+00,  2.80015656e+00,\n",
              "         4.68568912e+00],\n",
              "       [ 1.00000000e+00,  1.70351759e+00,  2.90197217e+00,\n",
              "         4.94356064e+00],\n",
              "       [ 1.00000000e+00,  1.73366834e+00,  3.00560592e+00,\n",
              "         5.21072383e+00],\n",
              "       [ 1.00000000e+00,  1.76381910e+00,  3.11105780e+00,\n",
              "         5.48734316e+00],\n",
              "       [ 1.00000000e+00,  1.79396985e+00,  3.21832782e+00,\n",
              "         5.77358307e+00],\n",
              "       [ 1.00000000e+00,  1.82412060e+00,  3.32741597e+00,\n",
              "         6.06960803e+00],\n",
              "       [ 1.00000000e+00,  1.85427136e+00,  3.43832226e+00,\n",
              "         6.37558249e+00],\n",
              "       [ 1.00000000e+00,  1.88442211e+00,  3.55104669e+00,\n",
              "         6.69167090e+00],\n",
              "       [ 1.00000000e+00,  1.91457286e+00,  3.66558925e+00,\n",
              "         7.01803772e+00],\n",
              "       [ 1.00000000e+00,  1.94472362e+00,  3.78194995e+00,\n",
              "         7.35484739e+00],\n",
              "       [ 1.00000000e+00,  1.97487437e+00,  3.90012878e+00,\n",
              "         7.70226438e+00],\n",
              "       [ 1.00000000e+00,  2.00502513e+00,  4.02012575e+00,\n",
              "         8.06045315e+00],\n",
              "       [ 1.00000000e+00,  2.03517588e+00,  4.14194086e+00,\n",
              "         8.42957813e+00],\n",
              "       [ 1.00000000e+00,  2.06532663e+00,  4.26557410e+00,\n",
              "         8.80980380e+00],\n",
              "       [ 1.00000000e+00,  2.09547739e+00,  4.39102548e+00,\n",
              "         9.20129460e+00],\n",
              "       [ 1.00000000e+00,  2.12562814e+00,  4.51829499e+00,\n",
              "         9.60421498e+00],\n",
              "       [ 1.00000000e+00,  2.15577889e+00,  4.64738264e+00,\n",
              "         1.00187294e+01],\n",
              "       [ 1.00000000e+00,  2.18592965e+00,  4.77828843e+00,\n",
              "         1.04450023e+01],\n",
              "       [ 1.00000000e+00,  2.21608040e+00,  4.91101235e+00,\n",
              "         1.08831982e+01],\n",
              "       [ 1.00000000e+00,  2.24623116e+00,  5.04555441e+00,\n",
              "         1.13334815e+01],\n",
              "       [ 1.00000000e+00,  2.27638191e+00,  5.18191460e+00,\n",
              "         1.17960166e+01],\n",
              "       [ 1.00000000e+00,  2.30653266e+00,  5.32009293e+00,\n",
              "         1.22709681e+01],\n",
              "       [ 1.00000000e+00,  2.33668342e+00,  5.46008939e+00,\n",
              "         1.27585003e+01],\n",
              "       [ 1.00000000e+00,  2.36683417e+00,  5.60190399e+00,\n",
              "         1.32587778e+01],\n",
              "       [ 1.00000000e+00,  2.39698492e+00,  5.74553673e+00,\n",
              "         1.37719649e+01],\n",
              "       [ 1.00000000e+00,  2.42713568e+00,  5.89098760e+00,\n",
              "         1.42982262e+01],\n",
              "       [ 1.00000000e+00,  2.45728643e+00,  6.03825661e+00,\n",
              "         1.48377260e+01],\n",
              "       [ 1.00000000e+00,  2.48743719e+00,  6.18734375e+00,\n",
              "         1.53906289e+01],\n",
              "       [ 1.00000000e+00,  2.51758794e+00,  6.33824903e+00,\n",
              "         1.59570993e+01],\n",
              "       [ 1.00000000e+00,  2.54773869e+00,  6.49097245e+00,\n",
              "         1.65373017e+01],\n",
              "       [ 1.00000000e+00,  2.57788945e+00,  6.64551400e+00,\n",
              "         1.71314004e+01],\n",
              "       [ 1.00000000e+00,  2.60804020e+00,  6.80187369e+00,\n",
              "         1.77395600e+01],\n",
              "       [ 1.00000000e+00,  2.63819095e+00,  6.96005151e+00,\n",
              "         1.83619449e+01],\n",
              "       [ 1.00000000e+00,  2.66834171e+00,  7.12004747e+00,\n",
              "         1.89987196e+01],\n",
              "       [ 1.00000000e+00,  2.69849246e+00,  7.28186157e+00,\n",
              "         1.96500486e+01],\n",
              "       [ 1.00000000e+00,  2.72864322e+00,  7.44549380e+00,\n",
              "         2.03160961e+01],\n",
              "       [ 1.00000000e+00,  2.75879397e+00,  7.61094417e+00,\n",
              "         2.09970269e+01],\n",
              "       [ 1.00000000e+00,  2.78894472e+00,  7.77821267e+00,\n",
              "         2.16930052e+01],\n",
              "       [ 1.00000000e+00,  2.81909548e+00,  7.94729931e+00,\n",
              "         2.24041955e+01],\n",
              "       [ 1.00000000e+00,  2.84924623e+00,  8.11820409e+00,\n",
              "         2.31307624e+01],\n",
              "       [ 1.00000000e+00,  2.87939698e+00,  8.29092700e+00,\n",
              "         2.38728702e+01],\n",
              "       [ 1.00000000e+00,  2.90954774e+00,  8.46546804e+00,\n",
              "         2.46306834e+01],\n",
              "       [ 1.00000000e+00,  2.93969849e+00,  8.64182723e+00,\n",
              "         2.54043665e+01],\n",
              "       [ 1.00000000e+00,  2.96984925e+00,  8.82000455e+00,\n",
              "         2.61940839e+01],\n",
              "       [ 1.00000000e+00,  3.00000000e+00,  9.00000000e+00,\n",
              "         2.70000000e+01]])"
            ]
          },
          "metadata": {},
          "execution_count": 167
        }
      ]
    },
    {
      "cell_type": "code",
      "source": [
        "y_new=regression1.predict(x_new_poly)\n",
        "plt.plot(x_new,y_new,'r-',label='New prediction',linewidth=2)\n",
        "plt.plot(x_train,y_train,'b.',label='training data')\n",
        "plt.plot(x_test,y_test,'g.',label='testing data')\n",
        "plt.xlabel('x-->')\n",
        "plt.ylabel('y-->')\n",
        "plt.legend()\n",
        "plt.show()"
      ],
      "metadata": {
        "colab": {
          "base_uri": "https://localhost:8080/",
          "height": 450
        },
        "id": "xIR2k_mxeNMq",
        "outputId": "ca6cf037-7bf7-4a50-ad71-f5c92ab1ffc1"
      },
      "execution_count": 168,
      "outputs": [
        {
          "output_type": "display_data",
          "data": {
            "text/plain": [
              "<Figure size 640x480 with 1 Axes>"
            ],
            "image/png": "[encoded data removed]"
          },
          "metadata": {}
        }
      ]
    },
    {
      "cell_type": "markdown",
      "source": [
        "#Pipeline Concept :--"
      ],
      "metadata": {
        "id": "LmjEHlD86Dxo"
      }
    },
    {
      "cell_type": "code",
      "source": [
        "from sklearn.pipeline import Pipeline"
      ],
      "metadata": {
        "id": "6ujbbxVlfgGX"
      },
      "execution_count": 169,
      "outputs": []
    },
    {
      "cell_type": "code",
      "source": [
        "def poly_regression(degree):\n",
        "  x_new=np.linspace(-3,3,200).reshape(200,1)\n",
        "  poly_features=PolynomialFeatures(degree=degree , include_bias=True)\n",
        "  lin_regression=LinearRegression()\n",
        "  poly_regression=Pipeline([\n",
        "      ('poly_features',poly_features),\n",
        "      ('lin_regression',lin_regression)\n",
        "  ])\n",
        "  poly_regression.fit(x_train,y_train)  #polynomial feature + fit of linear regression\n",
        "  y_pred=poly_regression.predict(x_new)\n",
        "\n",
        "  #plotting the prediction line\n",
        "  plt.plot(x_new,y_pred,'r-',label='Degree :'+str(degree),linewidth=2)\n",
        "  plt.plot(x_train,y_train,'b.',linewidth=4)\n",
        "  plt.plot(x_test,y_test,'g.',linewidth=4)\n",
        "  plt.xlabel('x-->')\n",
        "  plt.ylabel('y-->')\n",
        "  plt.legend()\n",
        "  plt.axis([-4,4,0,10])\n",
        "  plt.show()\n"
      ],
      "metadata": {
        "id": "Dg49lxw56OjV"
      },
      "execution_count": 170,
      "outputs": []
    },
    {
      "cell_type": "code",
      "source": [
        "poly_regression(6)"
      ],
      "metadata": {
        "colab": {
          "base_uri": "https://localhost:8080/",
          "height": 455
        },
        "id": "Z_D2-y2l9I-J",
        "outputId": "67d54567-216e-4153-d0cd-1740acecb9b2"
      },
      "execution_count": 175,
      "outputs": [
        {
          "output_type": "display_data",
          "data": {
            "text/plain": [
              "<Figure size 640x480 with 1 Axes>"
            ],
            "image/png": "[encoded data removed]"
          },
          "metadata": {}
        }
      ]
    },
    {
      "cell_type": "code",
      "source": [],
      "metadata": {
        "id": "ILivP8KJ9VJ9"
      },
      "execution_count": 171,
      "outputs": []
    }
  ]
}